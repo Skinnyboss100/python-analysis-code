{
 "cells": [
  {
   "cell_type": "code",
   "execution_count": 26,
   "metadata": {},
   "outputs": [],
   "source": [
    "import os, shutil"
   ]
  },
  {
   "cell_type": "code",
   "execution_count": 27,
   "metadata": {},
   "outputs": [],
   "source": [
    "path = r\"C:/Users/NICHOLAS/Documents/python document/\""
   ]
  },
  {
   "cell_type": "code",
   "execution_count": 28,
   "metadata": {},
   "outputs": [],
   "source": [
    "# TO GET THE LIST OF THE FILES IN THE PATH'S DIRECTORY\n",
    "file_name= os.listdir(path)"
   ]
  },
  {
   "cell_type": "code",
   "execution_count": 29,
   "metadata": {},
   "outputs": [],
   "source": [
    "# MAKING A DIRECTORY FOR EACH FILE\n",
    "folder_name = ['csv files','text files','jpeg files','pdf files']\n",
    "\n",
    "for i in range(0,3):\n",
    "    if not os.path.exists(path + folder_name[i]):\n",
    "        print(path + folder_name[i])\n",
    "        os.makedirs(path + folder_name[i])"
   ]
  },
  {
   "cell_type": "code",
   "execution_count": 32,
   "metadata": {},
   "outputs": [],
   "source": [
    "# CHECKING THE EXTENSION OF EACH FILE AND FINDING THE CORRESPONDING FOLDER TO PUT IT IN\n",
    "for file in file_name:\n",
    "    if '.csv' in file and not os.path.exists(path + 'csv files/' + file ):\n",
    "        shutil.move(path+file,path+'csv files/' + file)\n",
    "    elif '.txt' in file and not os.path.exists(path + 'text files/' + file ):\n",
    "        shutil.move(path+file,path+'text files/' + file)\n",
    "    elif '.jpeg' in file and not os.path.exists(path + 'jpeg files/' + file ):\n",
    "        shutil.move(path+file,path+'jpeg files/' + file)\n",
    "    elif '.jpg' in file and not os.path.exists(path + 'jpeg files/' + file ):\n",
    "        shutil.move(path+file,path+'jpeg files/' + file)\n",
    "    "
   ]
  },
  {
   "cell_type": "code",
   "execution_count": null,
   "metadata": {},
   "outputs": [],
   "source": []
  }
 ],
 "metadata": {
  "kernelspec": {
   "display_name": "Python 3",
   "language": "python",
   "name": "python3"
  },
  "language_info": {
   "codemirror_mode": {
    "name": "ipython",
    "version": 3
   },
   "file_extension": ".py",
   "mimetype": "text/x-python",
   "name": "python",
   "nbconvert_exporter": "python",
   "pygments_lexer": "ipython3",
   "version": "3.8.5"
  }
 },
 "nbformat": 4,
 "nbformat_minor": 4
}
